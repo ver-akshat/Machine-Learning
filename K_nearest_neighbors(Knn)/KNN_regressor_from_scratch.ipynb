{
 "cells": [
  {
   "cell_type": "markdown",
   "metadata": {},
   "source": [
    "#### Here I will be implementing KNN regressor from scratch using inbuilt dataset from sklearn"
   ]
  },
  {
   "cell_type": "code",
   "execution_count": 1,
   "metadata": {},
   "outputs": [],
   "source": [
    "# imports\n",
    "from sklearn.datasets import fetch_california_housing\n",
    "from matplotlib import pyplot as plt\n",
    "import time"
   ]
  },
  {
   "cell_type": "code",
   "execution_count": 3,
   "metadata": {},
   "outputs": [],
   "source": [
    "df=fetch_california_housing()\n",
    "X=df.data\n",
    "y=df.target"
   ]
  },
  {
   "cell_type": "code",
   "execution_count": 4,
   "metadata": {},
   "outputs": [],
   "source": [
    "# I am splitting data for testing later on\n",
    "train_test_split_percent=0.75"
   ]
  },
  {
   "cell_type": "code",
   "execution_count": 5,
   "metadata": {},
   "outputs": [],
   "source": [
    "# creating train and test sets\n",
    "n=X.shape[0]\n",
    "X_train=X[:int(train_test_split_percent*n),:]\n",
    "X_test=X[int(train_test_split_percent*n):,:]\n",
    "y_train=y[:int(train_test_split_percent*n)]\n",
    "y_test=y[int(train_test_split_percent*n):]"
   ]
  },
  {
   "cell_type": "code",
   "execution_count": 6,
   "metadata": {},
   "outputs": [
    {
     "data": {
      "text/plain": [
       "array([[   8.3252    ,   41.        ,    6.98412698, ...,    2.55555556,\n",
       "          37.88      , -122.23      ],\n",
       "       [   8.3014    ,   21.        ,    6.23813708, ...,    2.10984183,\n",
       "          37.86      , -122.22      ],\n",
       "       [   7.2574    ,   52.        ,    8.28813559, ...,    2.80225989,\n",
       "          37.85      , -122.24      ],\n",
       "       ...,\n",
       "       [   3.1793    ,   15.        ,    5.88767396, ...,    3.9194831 ,\n",
       "          33.16      , -117.18      ],\n",
       "       [   3.5839    ,    5.        ,    5.24861878, ...,    3.0121547 ,\n",
       "          33.16      , -117.15      ],\n",
       "       [   5.6874    ,   16.        ,    7.75700935, ...,    3.42523364,\n",
       "          33.16      , -117.14      ]])"
      ]
     },
     "execution_count": 6,
     "metadata": {},
     "output_type": "execute_result"
    }
   ],
   "source": [
    "#looking at the training set\n",
    "X_train"
   ]
  },
  {
   "cell_type": "code",
   "execution_count": 7,
   "metadata": {},
   "outputs": [],
   "source": [
    "# I can see that the features are not scaled as KNN is highly prone to these so I am scaling them.\n",
    "# To build a robust model, I need to standardise the dataset. (i.e make the mean = 0 and variance = 1)"
   ]
  },
  {
   "cell_type": "code",
   "execution_count": 8,
   "metadata": {},
   "outputs": [],
   "source": [
    "# Standardizing the train and test sets\n",
    "import numpy as np\n",
    "mean_x=np.mean(X_train,0)\n",
    "std_dev_x=np.std(X_train,0)\n",
    "X_train=(X_train-mean_x)/std_dev_x\n",
    "X_test=(X_test-mean_x)/std_dev_x\n",
    "mean_y=np.mean(y_train,0)\n",
    "std_dev_y=np.std(y_train,0,ddof=0)\n",
    "y_train=(y_train-mean_y)/std_dev_y"
   ]
  },
  {
   "cell_type": "code",
   "execution_count": 9,
   "metadata": {},
   "outputs": [
    {
     "data": {
      "text/plain": [
       "((15480, 1), (5160, 1), (5160, 1))"
      ]
     },
     "execution_count": 9,
     "metadata": {},
     "output_type": "execute_result"
    }
   ],
   "source": [
    "# Converting the shape of y_train and y_test as this is (int,0) to (int,1) for easy computation\n",
    "y_train=y_train.reshape(len(y_train),1)\n",
    "y_test=y_test.reshape(len(y_test),1)\n",
    "y_preds=np.zeros(y_test.shape)\n",
    "y_train.shape,y_test.shape,y_preds.shape"
   ]
  },
  {
   "cell_type": "markdown",
   "metadata": {},
   "source": [
    "#### Now I am trying to fit the model using 10 neighbors. I chose 7 randomly as there are not many features in dataset so don't require a complex model. I am finding euclidean distance here as it is by default implemented in sklearn. There are others also like: manhattan, cosine, jaccard etc. After this sort the distance and find nearest k neighbors.After this take average of these and adjust values by mean and standard deviation\n"
   ]
  },
  {
   "cell_type": "code",
   "execution_count": 10,
   "metadata": {},
   "outputs": [
    {
     "name": "stdout",
     "output_type": "stream",
     "text": [
      "0.36346518468992245\n",
      "time taken for this operation is : 23.390625\n"
     ]
    }
   ],
   "source": [
    "start = time.process_time()\n",
    "k=10\n",
    "for i in range(len(X_test)):\n",
    "    euc_dis=np.sqrt(np.sum((X_train-X_test[i])**2,axis=1))\n",
    "    y_preds[i]=y_train[np.argsort(euc_dis,axis=0)[:k]].mean()*std_dev_y + mean_y\n",
    "# find root mean square error\n",
    "rmse=np.sqrt(np.mean(y_preds-y_test)**2)\n",
    "print(rmse)\n",
    "time_taken=time.process_time()-start\n",
    "print(\"time taken for this operation is :\",time_taken)"
   ]
  },
  {
   "cell_type": "code",
   "execution_count": 19,
   "metadata": {},
   "outputs": [
    {
     "name": "stdout",
     "output_type": "stream",
     "text": [
      "Time taken is: 420.390625\n"
     ]
    }
   ],
   "source": [
    "# checking for various values of k \n",
    "start=time.process_time()\n",
    "k_values=[i for i in range(1,25,1)]\n",
    "def knn(X_train,X_test,y_train,y_test,k):\n",
    "    y_preds=np.zeros(y_test.shape)\n",
    "    for i in range(len(X_test)):\n",
    "        euc_dis=np.sqrt(np.sum((X_train-X_test[i])**2,axis=1))\n",
    "        y_preds[i]=y_train[np.argsort(euc_dis,axis=0)[:k]].mean() * std_dev_y + mean_y\n",
    "    rmse=np.sqrt(np.mean((y_test-y_preds)**2))\n",
    "    return rmse\n",
    "rmse_list=[]\n",
    "for i in k_values:\n",
    "    rmse_list.append(knn(X_train,X_test,y_train,y_test,i))\n",
    "print(\"Time taken is:\",time.process_time()-start)"
   ]
  },
  {
   "cell_type": "code",
   "execution_count": 20,
   "metadata": {},
   "outputs": [
    {
     "data": {
      "text/plain": [
       "Text(0, 0.5, 'RMSE')"
      ]
     },
     "execution_count": 20,
     "metadata": {},
     "output_type": "execute_result"
    },
    {
     "data": {
      "image/png": "[encoded data removed]",
      "text/plain": [
       "<Figure size 432x288 with 1 Axes>"
      ]
     },
     "metadata": {
      "needs_background": "light"
     },
     "output_type": "display_data"
    }
   ],
   "source": [
    "# finding optimal k value\n",
    "plt.plot(k_values,rmse_list)\n",
    "plt.xlabel(\"K values\")\n",
    "plt.ylabel(\"RMSE\")"
   ]
  },
  {
   "cell_type": "code",
   "execution_count": 22,
   "metadata": {},
   "outputs": [
    {
     "name": "stdout",
     "output_type": "stream",
     "text": [
      "12\n"
     ]
    }
   ],
   "source": [
    "#Finding the optimal K value\n",
    "min_rmse_k_value = k_values[rmse_list.index(min(rmse_list))]\n",
    "print(min_rmse_k_value)"
   ]
  },
  {
   "cell_type": "code",
   "execution_count": 23,
   "metadata": {},
   "outputs": [
    {
     "data": {
      "text/plain": [
       "0.855050010733312"
      ]
     },
     "execution_count": 23,
     "metadata": {},
     "output_type": "execute_result"
    }
   ],
   "source": [
    "#Finding the lowest possible RMSE\n",
    "optimal_RMSE = knn(X_train,X_test,y_train,y_test,min_rmse_k_value)\n",
    "optimal_RMSE"
   ]
  },
  {
   "cell_type": "code",
   "execution_count": null,
   "metadata": {},
   "outputs": [],
   "source": []
  }
 ],
 "metadata": {
  "interpreter": {
   "hash": "da7773864c198c8559e499b8a6d42753464881661d1a635729c4702e1dcc7c46"
  },
  "kernelspec": {
   "display_name": "Python 3.9.7 64-bit",
   "language": "python",
   "name": "python3"
  },
  "language_info": {
   "codemirror_mode": {
    "name": "ipython",
    "version": 3
   },
   "file_extension": ".py",
   "mimetype": "text/x-python",
   "name": "python",
   "nbconvert_exporter": "python",
   "pygments_lexer": "ipython3",
   "version": "3.9.7"
  },
  "orig_nbformat": 4
 },
 "nbformat": 4,
 "nbformat_minor": 2
}
