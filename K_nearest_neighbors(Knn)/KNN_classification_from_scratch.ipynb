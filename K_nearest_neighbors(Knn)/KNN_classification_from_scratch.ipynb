{
 "cells": [
  {
   "cell_type": "markdown",
   "metadata": {},
   "source": [
    "#### Here I am implementing KNN classifier using the famous inbuilt iris dataset in sklearn"
   ]
  },
  {
   "cell_type": "code",
   "execution_count": 9,
   "metadata": {},
   "outputs": [],
   "source": [
    "# imports\n",
    "import numpy as np\n",
    "import matplotlib.pyplot as plt\n",
    "from sklearn.datasets import load_iris\n",
    "import time\n",
    "from scipy.stats import mode"
   ]
  },
  {
   "cell_type": "code",
   "execution_count": 5,
   "metadata": {},
   "outputs": [],
   "source": [
    "# loading dataset\n",
    "df=load_iris()\n",
    "X=df.data\n",
    "y=df.target"
   ]
  },
  {
   "cell_type": "code",
   "execution_count": 6,
   "metadata": {},
   "outputs": [],
   "source": [
    "# defining split point for splitting data into training and testing set\n",
    "train_test_split_percent=0.75"
   ]
  },
  {
   "cell_type": "code",
   "execution_count": 7,
   "metadata": {},
   "outputs": [],
   "source": [
    "# creating train and test sets\n",
    "n=X.shape[0]\n",
    "X_train=X[:int(train_test_split_percent*n),:]\n",
    "X_test=X[int(train_test_split_percent*n):,:]\n",
    "y_train=y[:int(train_test_split_percent*n)]\n",
    "y_test=y[int(train_test_split_percent*n):]"
   ]
  },
  {
   "cell_type": "markdown",
   "metadata": {},
   "source": [
    "#### Steps are as follows:\n",
    "1. Define a function to calculate distance between 2 points.\n",
    "2. Use this function to get distance between test point and all data points\n",
    "3. Sort distance measurements to find the points closest to the test point (i.e., find the nearest neighbors)\n",
    "4. Use majority class labels of those closest points to predict the label of the test point\n"
   ]
  },
  {
   "cell_type": "code",
   "execution_count": 8,
   "metadata": {},
   "outputs": [],
   "source": [
    "# Here I am defining a minkowski function i.e here d=(x[i]-y[i])**p where p can be 1. 2\n",
    "def minkowski_dist(a,b,p=1):\n",
    "    n=len(a)\n",
    "    dist=0\n",
    "    for i in range(n):\n",
    "        dist+=abs(a[i]-b[i])**p\n",
    "    dist=dist**(1/p)\n",
    "    return dist"
   ]
  },
  {
   "cell_type": "code",
   "execution_count": 12,
   "metadata": {},
   "outputs": [],
   "source": [
    "# making a function to calculate knn\n",
    "def knn(X_train,y_train,X_test,k):\n",
    "    y_preds=[]\n",
    "    for i in X_test:\n",
    "        dist=[]\n",
    "        for j in range(len(X_train)):\n",
    "            # here I am giving 3rd parameter as 2 in minkowski distance to return euclidean distance. If I gave 1 it returns manhattan distancce\n",
    "            distances=minkowski_dist(np.array(X_train[j,:]),i,2)\n",
    "            dist.append(distances)\n",
    "        dist=np.array(dist)\n",
    "        # Sort the array\n",
    "        sorted_dist=np.argsort(dist)[:k]\n",
    "        labels=y[sorted_dist]\n",
    "        lab=mode(labels)\n",
    "        lab=lab.mode[0]\n",
    "        y_preds.append(lab)\n",
    "    return y_preds"
   ]
  },
  {
   "cell_type": "code",
   "execution_count": 16,
   "metadata": {},
   "outputs": [
    {
     "data": {
      "text/plain": [
       "0.7368421052631579"
      ]
     },
     "execution_count": 16,
     "metadata": {},
     "output_type": "execute_result"
    }
   ],
   "source": [
    "\n",
    "#Applying our function by randomly choosing k=7 and calculating metrics\n",
    "from sklearn.metrics import accuracy_score\n",
    "y_pred = knn(X_train,y_train,X_test , 7)\n",
    "accuracy_score(y_test,y_pred)"
   ]
  },
  {
   "cell_type": "code",
   "execution_count": 17,
   "metadata": {},
   "outputs": [
    {
     "data": {
      "text/plain": [
       "Text(0, 0.5, 'Accuracy in %')"
      ]
     },
     "execution_count": 17,
     "metadata": {},
     "output_type": "execute_result"
    },
    {
     "data": {
      "image/png": "[encoded data removed]",
      "text/plain": [
       "<Figure size 648x432 with 1 Axes>"
      ]
     },
     "metadata": {
      "needs_background": "light"
     },
     "output_type": "display_data"
    }
   ],
   "source": [
    "# Obtaining acuracy score on a variety of values of k\n",
    "start=time.process_time()\n",
    "accuracy=[]\n",
    "for k in range(1,100):\n",
    "    y_pred=knn(X_train,y_train,X_test,k)\n",
    "    accuracy.append(accuracy_score(y_test,y_pred))\n",
    "# plotting\n",
    "fig,ax=plt.subplots(figsize=(9,6))\n",
    "ax.plot(range(1,100),accuracy)\n",
    "ax.set_xlabel(\"Number of nearest neighbors(k)\")\n",
    "ax.set_ylabel(\"Accuracy in %\")\n"
   ]
  },
  {
   "cell_type": "markdown",
   "metadata": {},
   "source": [
    "#### So we can infer that using value of k less than 10 gives good results."
   ]
  },
  {
   "cell_type": "markdown",
   "metadata": {},
   "source": []
  }
 ],
 "metadata": {
  "interpreter": {
   "hash": "da7773864c198c8559e499b8a6d42753464881661d1a635729c4702e1dcc7c46"
  },
  "kernelspec": {
   "display_name": "Python 3.9.7 64-bit",
   "language": "python",
   "name": "python3"
  },
  "language_info": {
   "codemirror_mode": {
    "name": "ipython",
    "version": 3
   },
   "file_extension": ".py",
   "mimetype": "text/x-python",
   "name": "python",
   "nbconvert_exporter": "python",
   "pygments_lexer": "ipython3",
   "version": "3.9.7"
  },
  "orig_nbformat": 4
 },
 "nbformat": 4,
 "nbformat_minor": 2
}
