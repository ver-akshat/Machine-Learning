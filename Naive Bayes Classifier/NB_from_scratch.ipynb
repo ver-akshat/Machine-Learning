{
 "cells": [
  {
   "cell_type": "markdown",
   "metadata": {},
   "source": [
    "#### Here I am implementing Naive Bayes algorithm from scratch. There are many forms of Naive Bayes algorithm like: bernoulli NB, gaussian NB,multinomial NB. I am implementing Bernoulli NB as I am using the famouus weather dataset which has binary features"
   ]
  },
  {
   "cell_type": "code",
   "execution_count": 6,
   "metadata": {},
   "outputs": [],
   "source": [
    "# imports \n",
    "import numpy as np\n",
    "import pandas as pd"
   ]
  },
  {
   "cell_type": "code",
   "execution_count": 7,
   "metadata": {},
   "outputs": [],
   "source": [
    "# Defining the accuracy_score function as its implemented in sklearn\n",
    "def accuracy_score(y_true, y_pred):\n",
    "\treturn round(float(sum(y_pred == y_true))/float(len(y_true)) * 100 ,2)"
   ]
  },
  {
   "cell_type": "code",
   "execution_count": 8,
   "metadata": {},
   "outputs": [],
   "source": [
    "def split(df):\n",
    "\t# separate dataset into features and target\n",
    "\tX = df.drop([df.columns[-1]], axis = 1)\n",
    "\ty = df[df.columns[-1]]\n",
    "\n",
    "\treturn X, y"
   ]
  },
  {
   "cell_type": "code",
   "execution_count": 9,
   "metadata": {},
   "outputs": [],
   "source": [
    "class  Bernoulli_NB_Classifier:\n",
    "\n",
    "\tdef __init__(self):\n",
    "\t\t# initializing the various parameters to be used\n",
    "\t\tself.features = list\n",
    "\t\tself.likelihoods = {}\n",
    "\t\tself.class_priors = {}\n",
    "\t\tself.pred_priors = {}\n",
    "\n",
    "\t\tself.X = np.array\n",
    "\t\tself.y = np.array\n",
    "\t\tself.n = int\n",
    "\t\tself.m = int\n",
    "\n",
    "\tdef calculate_prior_prob(self):\n",
    "\n",
    "\t\tfor outcome in np.unique(self.y):\n",
    "\t\t\toutcome_count = sum(self.y == outcome)\n",
    "\t\t\tself.class_priors[outcome] = outcome_count / self.n\n",
    "\n",
    "\tdef calculate_likelihoods(self):\n",
    "\t\tfor feature in self.features:\n",
    "\t\t\tfor outcome in np.unique(self.y):\n",
    "\t\t\t\toutcome_count = sum(self.y == outcome)\n",
    "\t\t\t\tfeat_likelihood = self.X[feature][self.y[self.y == outcome].index.values.tolist()].value_counts().to_dict()\n",
    "\t\t\t\tfor feat_val, count in feat_likelihood.items():\n",
    "\t\t\t\t\tself.likelihoods[feature][feat_val + '_' + outcome] = count/outcome_count\n",
    "\n",
    "\tdef calc_predictor(self):\n",
    "\t\tfor feature in self.features:\n",
    "\t\t\tfeat_vals = self.X[feature].value_counts().to_dict()\n",
    "\t\t\tfor feat_val, count in feat_vals.items():\n",
    "\t\t\t\tself.pred_priors[feature][feat_val] = count/self.n\n",
    "\n",
    "\tdef fit(self, X, y):\n",
    "\t\t# fit method to fit the NB model to dataset\n",
    "\t\tself.features = list(X.columns)\n",
    "\t\tself.X = X\n",
    "\t\tself.y = y\n",
    "\t\tself.n = X.shape[0]\n",
    "\t\tself.m = X.shape[1]\n",
    "\n",
    "\t\tfor feature in self.features:\n",
    "\t\t\tself.likelihoods[feature] = {}\n",
    "\t\t\tself.pred_priors[feature] = {}\n",
    "\n",
    "\t\t\tfor feat_val in np.unique(self.X[feature]):\n",
    "\t\t\t\tself.pred_priors[feature].update({feat_val: 0})\n",
    "\n",
    "\t\t\t\tfor outcome in np.unique(self.y):\n",
    "\t\t\t\t\tself.likelihoods[feature].update({feat_val+'_'+outcome:0})\n",
    "\t\t\t\t\tself.class_priors.update({outcome: 0})\n",
    "\n",
    "\t\tself.calculate_prior_prob()\n",
    "\t\tself.calculate_likelihoods()\n",
    "\t\tself.calc_predictor()\n",
    "\n",
    "\t\n",
    "\n",
    "\tdef predict(self, X):\n",
    "\t\tresults = []\n",
    "\t\tX = np.array(X)\n",
    "\t\tfor query in X:\n",
    "\t\t\tprobs_outcome = {}\n",
    "\t\t\tfor outcome in np.unique(self.y):\n",
    "\t\t\t\tprior = self.class_priors[outcome]\n",
    "\t\t\t\tlikelihood = 1\n",
    "\t\t\t\tevidence = 1\n",
    "\t\t\t\tfor feat, feat_val in zip(self.features, query):\n",
    "\t\t\t\t\tlikelihood *= self.likelihoods[feat][feat_val + '_' + outcome]\n",
    "\t\t\t\t\tevidence *= self.pred_priors[feat][feat_val]\n",
    "\n",
    "\t\t\t\tposterior = (likelihood * prior) / (evidence)\n",
    "\n",
    "\t\t\t\tprobs_outcome[outcome] = posterior\n",
    "\n",
    "\t\t\tresult = max(probs_outcome, key = lambda x: probs_outcome[x])\n",
    "\t\t\tresults.append(result)\n",
    "\n",
    "\t\treturn np.array(results)"
   ]
  },
  {
   "cell_type": "code",
   "execution_count": 10,
   "metadata": {},
   "outputs": [],
   "source": [
    "df=pd.read_csv('weather.csv')"
   ]
  },
  {
   "cell_type": "code",
   "execution_count": 11,
   "metadata": {},
   "outputs": [
    {
     "name": "stdout",
     "output_type": "stream",
     "text": [
      "Training Accuracy: 92.86\n"
     ]
    }
   ],
   "source": [
    "if __name__ == \"__main__\":\n",
    "\t#Split fearures and target\n",
    "\tX,y  = split(df)\n",
    "\n",
    "\tnb = Bernoulli_NB_Classifier()\n",
    "\tnb.fit(X, y)\n",
    "\n",
    "\tprint(\"Training Accuracy: {}\".format(accuracy_score(y, nb.predict(X))))\n"
   ]
  },
  {
   "cell_type": "code",
   "execution_count": null,
   "metadata": {},
   "outputs": [],
   "source": []
  }
 ],
 "metadata": {
  "interpreter": {
   "hash": "da7773864c198c8559e499b8a6d42753464881661d1a635729c4702e1dcc7c46"
  },
  "kernelspec": {
   "display_name": "Python 3.9.7 64-bit",
   "language": "python",
   "name": "python3"
  },
  "language_info": {
   "codemirror_mode": {
    "name": "ipython",
    "version": 3
   },
   "file_extension": ".py",
   "mimetype": "text/x-python",
   "name": "python",
   "nbconvert_exporter": "python",
   "pygments_lexer": "ipython3",
   "version": "3.9.7"
  },
  "orig_nbformat": 4
 },
 "nbformat": 4,
 "nbformat_minor": 2
}
