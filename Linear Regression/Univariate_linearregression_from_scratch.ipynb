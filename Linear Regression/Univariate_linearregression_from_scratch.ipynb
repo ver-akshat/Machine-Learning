{
 "cells": [
  {
   "cell_type": "markdown",
   "metadata": {},
   "source": [
    "### Implementing Univariate Linear Regression from scratch using Gradient Descent"
   ]
  },
  {
   "cell_type": "markdown",
   "metadata": {},
   "source": [
    "#### Here I am using an already available dataset that has 2 columns."
   ]
  },
  {
   "cell_type": "code",
   "execution_count": 68,
   "metadata": {},
   "outputs": [],
   "source": [
    "# imports\n",
    "import pandas as pd\n",
    "import matplotlib.pyplot as plt\n",
    "import seaborn as sns\n",
    "from sklearn.metrics import r2_score, mean_squared_error\n"
   ]
  },
  {
   "cell_type": "code",
   "execution_count": 69,
   "metadata": {},
   "outputs": [],
   "source": [
    "# reading data in a pandas dataframe\n",
    "df=pd.read_csv('data.csv')"
   ]
  },
  {
   "cell_type": "code",
   "execution_count": 70,
   "metadata": {},
   "outputs": [],
   "source": [
    "df.columns=['no_of_hours_studied','marks_obtained']"
   ]
  },
  {
   "cell_type": "code",
   "execution_count": 71,
   "metadata": {},
   "outputs": [
    {
     "data": {
      "text/html": [
       "<div>\n",
       "<style scoped>\n",
       "    .dataframe tbody tr th:only-of-type {\n",
       "        vertical-align: middle;\n",
       "    }\n",
       "\n",
       "    .dataframe tbody tr th {\n",
       "        vertical-align: top;\n",
       "    }\n",
       "\n",
       "    .dataframe thead th {\n",
       "        text-align: right;\n",
       "    }\n",
       "</style>\n",
       "<table border=\"1\" class=\"dataframe\">\n",
       "  <thead>\n",
       "    <tr style=\"text-align: right;\">\n",
       "      <th></th>\n",
       "      <th>no_of_hours_studied</th>\n",
       "      <th>marks_obtained</th>\n",
       "    </tr>\n",
       "  </thead>\n",
       "  <tbody>\n",
       "    <tr>\n",
       "      <th>0</th>\n",
       "      <td>55.766804</td>\n",
       "      <td>71.207596</td>\n",
       "    </tr>\n",
       "    <tr>\n",
       "      <th>1</th>\n",
       "      <td>63.870358</td>\n",
       "      <td>64.992382</td>\n",
       "    </tr>\n",
       "    <tr>\n",
       "      <th>2</th>\n",
       "      <td>49.815640</td>\n",
       "      <td>73.976632</td>\n",
       "    </tr>\n",
       "    <tr>\n",
       "      <th>3</th>\n",
       "      <td>62.153208</td>\n",
       "      <td>89.660925</td>\n",
       "    </tr>\n",
       "    <tr>\n",
       "      <th>4</th>\n",
       "      <td>57.482188</td>\n",
       "      <td>80.641518</td>\n",
       "    </tr>\n",
       "  </tbody>\n",
       "</table>\n",
       "</div>"
      ],
      "text/plain": [
       "   no_of_hours_studied  marks_obtained\n",
       "0            55.766804       71.207596\n",
       "1            63.870358       64.992382\n",
       "2            49.815640       73.976632\n",
       "3            62.153208       89.660925\n",
       "4            57.482188       80.641518"
      ]
     },
     "execution_count": 71,
     "metadata": {},
     "output_type": "execute_result"
    }
   ],
   "source": [
    "df.head()"
   ]
  },
  {
   "cell_type": "code",
   "execution_count": 72,
   "metadata": {},
   "outputs": [
    {
     "data": {
      "image/png": "[encoded data removed]",
      "text/plain": [
       "<Figure size 432x288 with 1 Axes>"
      ]
     },
     "metadata": {
      "needs_background": "light"
     },
     "output_type": "display_data"
    }
   ],
   "source": [
    "plt.scatter(df.no_of_hours_studied,df.marks_obtained)\n",
    "plt.xlabel('No of hours studied per week')\n",
    "plt.ylabel('Marks obtained')\n",
    "plt.show()"
   ]
  },
  {
   "cell_type": "code",
   "execution_count": 73,
   "metadata": {},
   "outputs": [],
   "source": [
    "# implementing loss function\n",
    "def loss_fn(m,b,data_points):\n",
    "    error=0\n",
    "    for i in range(len(data_points)):\n",
    "        x=data_points.iloc[i,0]\n",
    "        y=data_points.iloc[i,1]\n",
    "        error+=(y-(m*x+b))**2\n",
    "    return error/float(len(data_points))"
   ]
  },
  {
   "cell_type": "code",
   "execution_count": 74,
   "metadata": {},
   "outputs": [],
   "source": [
    "# implementing gradient descent funtion\n",
    "def gradient_descent(m1,b1,data_points,lr=0.0001):\n",
    "    m_gd=0\n",
    "    b_gd=0\n",
    "    n=float(len(data_points))\n",
    "    for i in range(len(data_points)):\n",
    "        x=data_points.iloc[i,0]\n",
    "        y=data_points.iloc[i,1]\n",
    "        m_gd += -(2/n)*x*(y-(m1*x+b1))\n",
    "        b_gd += -(2/n)*(y-(m1*x+b1))\n",
    "    m=m1-lr*m_gd\n",
    "    b=b1-lr*b_gd\n",
    "    return [m,b]"
   ]
  },
  {
   "cell_type": "code",
   "execution_count": 75,
   "metadata": {},
   "outputs": [
    {
     "name": "stdout",
     "output_type": "stream",
     "text": [
      "1.4607911678007937 0.08980028357345665\n"
     ]
    }
   ],
   "source": [
    "# Training the model on the dataset\n",
    "m=0\n",
    "b=0\n",
    "lr=0.0001\n",
    "epochs=1000\n",
    "for i in range(epochs):\n",
    "    m,b=gradient_descent(m,b,df,lr)\n",
    "print(m,b)"
   ]
  },
  {
   "cell_type": "code",
   "execution_count": 76,
   "metadata": {},
   "outputs": [
    {
     "data": {
      "image/png": "[encoded data removed]",
      "text/plain": [
       "<Figure size 432x288 with 1 Axes>"
      ]
     },
     "metadata": {
      "needs_background": "light"
     },
     "output_type": "display_data"
    }
   ],
   "source": [
    "# plotting the regression or best fit line\n",
    "plt.scatter(df.no_of_hours_studied,df.marks_obtained,color=\"red\")\n",
    "plt.xlabel('No of hours studied per week')\n",
    "plt.ylabel('Marks obtained')\n",
    "plt.plot(list(range(25,75)), [m*x+b for x in range(25,75)],color=\"black\")\n",
    "plt.show()"
   ]
  },
  {
   "cell_type": "markdown",
   "metadata": {},
   "source": [
    "#### 2nd Method - Using coefficients i.e. calculating m and b amf then fitting the model"
   ]
  },
  {
   "cell_type": "code",
   "execution_count": 77,
   "metadata": {},
   "outputs": [],
   "source": [
    "# imports\n",
    "import numpy as np"
   ]
  },
  {
   "cell_type": "code",
   "execution_count": 78,
   "metadata": {},
   "outputs": [],
   "source": [
    "# Calculating mean\n",
    "def mean(arr):\n",
    "    return np.sum(arr)/len(arr)"
   ]
  },
  {
   "cell_type": "code",
   "execution_count": 79,
   "metadata": {},
   "outputs": [],
   "source": [
    "# Calculating variance\n",
    "def variance(arr, mean):\n",
    "    return np.sum((arr-mean)**2)"
   ]
  },
  {
   "cell_type": "code",
   "execution_count": 80,
   "metadata": {},
   "outputs": [],
   "source": [
    "# Calculating covariance\n",
    "def covariance(arr_x, mean_x, arr_y, mean_y):\n",
    "    final_arr = (arr_x - mean_x)*(arr_y - mean_y)\n",
    "    return np.sum(final_arr)"
   ]
  },
  {
   "cell_type": "code",
   "execution_count": 81,
   "metadata": {},
   "outputs": [],
   "source": [
    "# Coefficients \n",
    "# m = cov(x, y) / var(x)\n",
    "# b = y - m*x\n",
    "def get_coefficients(x, y):\n",
    "    x_mean = mean(x)\n",
    "    y_mean = mean(y)\n",
    "    m = covariance(x, x_mean, y, y_mean)/variance(x, x_mean)\n",
    "    b = y_mean - x_mean*m\n",
    "    return m, b"
   ]
  },
  {
   "cell_type": "code",
   "execution_count": 82,
   "metadata": {},
   "outputs": [],
   "source": [
    "x=df.no_of_hours_studied\n",
    "y=df.marks_obtained"
   ]
  },
  {
   "cell_type": "code",
   "execution_count": 83,
   "metadata": {},
   "outputs": [
    {
     "name": "stdout",
     "output_type": "stream",
     "text": [
      "The R2 score of the model is:  0.5113103013900129\n",
      "The MSE score of the model is:  101.57961402049528\n"
     ]
    }
   ],
   "source": [
    "def linear_regression(x_train, y_train, x_test, y_test):\n",
    "    prediction = []\n",
    "    m, b = get_coefficients(x_train, y_train)\n",
    "    for x in x_test:\n",
    "        y = m*x + b\n",
    "        prediction.append(y)\n",
    "    \n",
    "    r2 = r2_score(prediction, y_test)\n",
    "    mse = mean_squared_error(prediction, y_test)\n",
    "    print(\"The R2 score of the model is: \", r2)\n",
    "    print(\"The MSE score of the model is: \", mse)\n",
    "    return prediction\n",
    "prediction = linear_regression(x[:80], y[:80], x[80:], y[80:])"
   ]
  },
  {
   "cell_type": "code",
   "execution_count": 84,
   "metadata": {},
   "outputs": [],
   "source": [
    "def plot_reg_line(x, y):\n",
    "    # Calculate predictions for x ranging from 1 to 100\n",
    "    prediction = []\n",
    "    m, c = get_coefficients(x, y)\n",
    "    for x0 in range(1,100):\n",
    "        yhat = m*x0 + c\n",
    "        prediction.append(yhat)"
   ]
  },
  {
   "cell_type": "code",
   "execution_count": 85,
   "metadata": {},
   "outputs": [
    {
     "name": "stderr",
     "output_type": "stream",
     "text": [
      "C:\\Users\\aksha\\AppData\\Local\\Programs\\Python\\Python39\\lib\\site-packages\\seaborn\\_decorators.py:36: FutureWarning: Pass the following variables as keyword args: x, y. From version 0.12, the only valid positional argument will be `data`, and passing other arguments without an explicit keyword will result in an error or misinterpretation.\n",
      "  warnings.warn(\n"
     ]
    },
    {
     "data": {
      "image/png": "[encoded data removed]",
      "text/plain": [
       "<Figure size 432x288 with 1 Axes>"
      ]
     },
     "metadata": {
      "needs_background": "light"
     },
     "output_type": "display_data"
    }
   ],
   "source": [
    "# Regression plot\n",
    "sns.regplot(x, y)\n",
    "plt.xlabel('X')\n",
    "plt.ylabel('Y')\n",
    "plt.title(\"Regression Plot\")\n",
    "plt.show()"
   ]
  },
  {
   "cell_type": "code",
   "execution_count": 65,
   "metadata": {},
   "outputs": [],
   "source": [
    "# Thats all for linear regression"
   ]
  }
 ],
 "metadata": {
  "interpreter": {
   "hash": "da7773864c198c8559e499b8a6d42753464881661d1a635729c4702e1dcc7c46"
  },
  "kernelspec": {
   "display_name": "Python 3.9.7 64-bit",
   "language": "python",
   "name": "python3"
  },
  "language_info": {
   "codemirror_mode": {
    "name": "ipython",
    "version": 3
   },
   "file_extension": ".py",
   "mimetype": "text/x-python",
   "name": "python",
   "nbconvert_exporter": "python",
   "pygments_lexer": "ipython3",
   "version": "3.9.7"
  },
  "orig_nbformat": 4
 },
 "nbformat": 4,
 "nbformat_minor": 2
}
